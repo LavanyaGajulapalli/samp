{
 "cells": [
  {
   "cell_type": "code",
   "execution_count": 1,
   "id": "99fc320b",
   "metadata": {},
   "outputs": [],
   "source": [
    "import pandas as pd\n",
    "import numpy as np"
   ]
  },
  {
   "cell_type": "code",
   "execution_count": 2,
   "id": "14ef6605",
   "metadata": {},
   "outputs": [],
   "source": [
    "data=pd.read_csv(\"nse_bse.csv\")"
   ]
  },
  {
   "cell_type": "code",
   "execution_count": 13,
   "id": "5475ea10",
   "metadata": {},
   "outputs": [
    {
     "data": {
      "text/plain": [
       "Index(['Company', 'BSE code', 'NSE code', 'ISIN', 'Sector', 'Industry', 'Date',\n",
       "       'Price', '1 day change(%)', '52 Week Low', '52 Week High',\n",
       "       'Market Cap(Cr)', 'Enterprise Value(Cr)', 'ISIN Description',\n",
       "       'Name Of Issuer', 'Former Name(if any)', 'Security Type Description',\n",
       "       'ISIN Status', 'Face Value (INR)', 'Address Of Issuer',\n",
       "       'Contact Person Details', 'Name of Registrar & Transfer Agent (RTA)',\n",
       "       'RTA Business Partner (BP) ID', 'Address for Physical Certificate',\n",
       "       'Tel. No.', 'Fax No.', 'Email ID(s)',\n",
       "       'No. of demat requests pending for >21 days', 'Services stopped by RTA',\n",
       "       'url', 'comapny size', 'pincode', 'CIN', 'COMPANY_STATUS',\n",
       "       'COMPANY_CLASS', 'COMPANY_CATEGORY', 'COMPANY_SUB_CATEGORY',\n",
       "       'DATE_OF_REGISTRATION', 'REGISTERED_STATE', 'AUTHORIZED_CAP',\n",
       "       'PAIDUP_CAPITAL', 'PRINCIPAL_BUSINESS_ACTIVITY_AS_PER_CIN',\n",
       "       'REGISTERED_OFFICE_ADDRESS', 'REGISTRAR_OF_COMPANIES', 'EMAIL_ADDR',\n",
       "       'LATEST_YEAR_ANNUAL_RETURN', 'LATEST_YEAR_FINANCIAL_STATEMENT',\n",
       "       'Description'],\n",
       "      dtype='object')"
      ]
     },
     "execution_count": 13,
     "metadata": {},
     "output_type": "execute_result"
    }
   ],
   "source": [
    "data.columns"
   ]
  },
  {
   "cell_type": "code",
   "execution_count": 3,
   "id": "d982e984",
   "metadata": {},
   "outputs": [],
   "source": [
    "missdata=pd.read_csv(\"missing.csv\")"
   ]
  },
  {
   "cell_type": "code",
   "execution_count": 4,
   "id": "e06d4564",
   "metadata": {},
   "outputs": [],
   "source": [
    "final_list=[]\n",
    "for i,j in zip(data['REGISTRAR_OF_COMPANIES'],missdata['REGISTRAR_OF_COMPANIES']):\n",
    "    if pd.isna(i):\n",
    "        if pd.isna(j):\n",
    "            final_list.append(np.nan)\n",
    "        else:\n",
    "            final_list.append(j)\n",
    "    else:\n",
    "        final_list.append(i)\n",
    "# yourdata.col = final_list"
   ]
  },
  {
   "cell_type": "code",
   "execution_count": 7,
   "id": "c802e8e4",
   "metadata": {},
   "outputs": [],
   "source": [
    "data['REGISTRAR_OF_COMPANIES']=final_list"
   ]
  },
  {
   "cell_type": "code",
   "execution_count": 34,
   "id": "508cd999",
   "metadata": {},
   "outputs": [],
   "source": [
    "final_list=[]\n",
    "for i,j in zip(data['COMPANY_STATUS'],missdata['COMPANY_STATUS']):\n",
    "    if pd.isna(i):\n",
    "        if pd.isna(j):\n",
    "            final_list.append(np.nan)\n",
    "        else:\n",
    "            final_list.append(j)\n",
    "    else:\n",
    "        final_list.append(i)"
   ]
  },
  {
   "cell_type": "code",
   "execution_count": 35,
   "id": "c99a8b92",
   "metadata": {},
   "outputs": [],
   "source": [
    "data['COMPANY_STATUS']=final_list"
   ]
  },
  {
   "cell_type": "code",
   "execution_count": 36,
   "id": "eb55c858",
   "metadata": {},
   "outputs": [
    {
     "data": {
      "text/plain": [
       "Company                                          0\n",
       "BSE code                                         0\n",
       "NSE code                                      2139\n",
       "ISIN                                             3\n",
       "Sector                                           0\n",
       "Industry                                         0\n",
       "Date                                             0\n",
       "Price                                            0\n",
       "1 day change(%)                                  5\n",
       "52 Week Low                                      2\n",
       "52 Week High                                     2\n",
       "Market Cap(Cr)                                   4\n",
       "Enterprise Value(Cr)                             8\n",
       "ISIN Description                                26\n",
       "Name Of Issuer                                  26\n",
       "Former Name(if any)                           1380\n",
       "Security Type Description                       26\n",
       "ISIN Status                                     26\n",
       "Face Value (INR)                                26\n",
       "Address Of Issuer                               26\n",
       "Contact Person Details                        2535\n",
       "Name of Registrar & Transfer Agent (RTA)        26\n",
       "RTA Business Partner (BP) ID                    26\n",
       "Address for Physical Certificate                26\n",
       "Tel. No.                                        35\n",
       "Fax No.                                        603\n",
       "Email ID(s)                                    100\n",
       "No. of demat requests pending for >21 days      26\n",
       "Services stopped by RTA                         26\n",
       "url                                           3608\n",
       "comapny size                                     0\n",
       "pincode                                         65\n",
       "CIN                                             77\n",
       "COMPANY_STATUS                                 126\n",
       "COMPANY_CLASS                                  126\n",
       "COMPANY_CATEGORY                               126\n",
       "COMPANY_SUB_CATEGORY                           126\n",
       "DATE_OF_REGISTRATION                           287\n",
       "REGISTERED_STATE                               286\n",
       "AUTHORIZED_CAP                                 286\n",
       "PAIDUP_CAPITAL                                 286\n",
       "PRINCIPAL_BUSINESS_ACTIVITY_AS_PER_CIN         286\n",
       "REGISTERED_OFFICE_ADDRESS                      293\n",
       "REGISTRAR_OF_COMPANIES                         329\n",
       "EMAIL_ADDR                                     667\n",
       "LATEST_YEAR_ANNUAL_RETURN                      670\n",
       "LATEST_YEAR_FINANCIAL_STATEMENT                670\n",
       "Description                                    172\n",
       "dtype: int64"
      ]
     },
     "execution_count": 36,
     "metadata": {},
     "output_type": "execute_result"
    }
   ],
   "source": [
    "data.isnull().sum()"
   ]
  },
  {
   "cell_type": "code",
   "execution_count": 37,
   "id": "55ba20bb",
   "metadata": {},
   "outputs": [],
   "source": [
    "data.to_csv(\"new_123_nsebse.csv\",index=False)"
   ]
  },
  {
   "cell_type": "code",
   "execution_count": null,
   "id": "778bb325",
   "metadata": {},
   "outputs": [],
   "source": []
  }
 ],
 "metadata": {
  "kernelspec": {
   "display_name": "indickernel",
   "language": "python",
   "name": "indickernel"
  },
  "language_info": {
   "codemirror_mode": {
    "name": "ipython",
    "version": 3
   },
   "file_extension": ".py",
   "mimetype": "text/x-python",
   "name": "python",
   "nbconvert_exporter": "python",
   "pygments_lexer": "ipython3",
   "version": "3.8.8"
  }
 },
 "nbformat": 4,
 "nbformat_minor": 5
}
