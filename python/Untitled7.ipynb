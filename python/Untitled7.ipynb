{
 "cells": [
  {
   "cell_type": "code",
   "execution_count": 1,
   "id": "a46e37d8",
   "metadata": {},
   "outputs": [],
   "source": [
    "import pandas as pd\n",
    "import numpy as np"
   ]
  },
  {
   "cell_type": "code",
   "execution_count": 2,
   "id": "95222300",
   "metadata": {},
   "outputs": [],
   "source": [
    "from bs4 import BeautifulSoup\n",
    "import requestscols = ['Company Category','Company Sub Category','Class of Company','Date of Incorporation','Age of Company',\n",
    "       'Activity','Authorised Capital','Paid up capital','Director Name','Address']\n",
    "df = pd.DataFrame(columns=cols)"
   ]
  },
  {
   "cell_type": "code",
   "execution_count": 4,
   "id": "ab0fb5c5",
   "metadata": {},
   "outputs": [],
   "source": [
    "data = pd.read_csv('60001-120001.csv')"
   ]
  },
  {
   "cell_type": "code",
   "execution_count": 5,
   "id": "d9a35566",
   "metadata": {},
   "outputs": [],
   "source": [
    "d = data[data.ownership!='Limited Liability Partnership']"
   ]
  },
  {
   "cell_type": "code",
   "execution_count": 6,
   "id": "3ac7bd46",
   "metadata": {},
   "outputs": [
    {
     "data": {
      "text/html": [
       "<div>\n",
       "<style scoped>\n",
       "    .dataframe tbody tr th:only-of-type {\n",
       "        vertical-align: middle;\n",
       "    }\n",
       "\n",
       "    .dataframe tbody tr th {\n",
       "        vertical-align: top;\n",
       "    }\n",
       "\n",
       "    .dataframe thead th {\n",
       "        text-align: right;\n",
       "    }\n",
       "</style>\n",
       "<table border=\"1\" class=\"dataframe\">\n",
       "  <thead>\n",
       "    <tr style=\"text-align: right;\">\n",
       "      <th></th>\n",
       "      <th>CIN</th>\n",
       "      <th>Name</th>\n",
       "      <th>url</th>\n",
       "      <th>roc</th>\n",
       "      <th>status</th>\n",
       "      <th>ownership</th>\n",
       "    </tr>\n",
       "  </thead>\n",
       "  <tbody>\n",
       "    <tr>\n",
       "      <th>0</th>\n",
       "      <td>U15490MH2017PTC299682</td>\n",
       "      <td>SAINT AUBIN BEVERAGES PRIVATE LIMITED</td>\n",
       "      <td>https://www.zaubacorp.com/company/SAINT-AUBIN-...</td>\n",
       "      <td>Mumbai</td>\n",
       "      <td>Active</td>\n",
       "      <td>Private Limited Company</td>\n",
       "    </tr>\n",
       "    <tr>\n",
       "      <th>1</th>\n",
       "      <td>U52390DL2016PTC290833</td>\n",
       "      <td>SAINT BEARD RETAIL PRIVATE LIMITED</td>\n",
       "      <td>https://www.zaubacorp.com/company/SAINT-BEARD-...</td>\n",
       "      <td>Delhi</td>\n",
       "      <td>Active</td>\n",
       "      <td>Private Limited Company</td>\n",
       "    </tr>\n",
       "    <tr>\n",
       "      <th>2</th>\n",
       "      <td>U26933GJ2003PTC043224</td>\n",
       "      <td>SAINT CERAMIC PRIVATE LIMITED</td>\n",
       "      <td>https://www.zaubacorp.com/company/SAINT-CERAMI...</td>\n",
       "      <td>Ahmedabad</td>\n",
       "      <td>Active</td>\n",
       "      <td>Private Limited Company</td>\n",
       "    </tr>\n",
       "    <tr>\n",
       "      <th>3</th>\n",
       "      <td>U63030MH2017PTC295607</td>\n",
       "      <td>SAINT CRESCENS LOGISTICS PRIVATE LIMITED</td>\n",
       "      <td>https://www.zaubacorp.com/company/SAINT-CRESCE...</td>\n",
       "      <td>Mumbai</td>\n",
       "      <td>Active</td>\n",
       "      <td>Private Limited Company</td>\n",
       "    </tr>\n",
       "    <tr>\n",
       "      <th>4</th>\n",
       "      <td>U67190MH2007PTC171969</td>\n",
       "      <td>SAINT DEVELOPERS PRIVATE LIMITED</td>\n",
       "      <td>https://www.zaubacorp.com/company/SAINT-DEVELO...</td>\n",
       "      <td>Mumbai</td>\n",
       "      <td>Active</td>\n",
       "      <td>Private Limited Company</td>\n",
       "    </tr>\n",
       "  </tbody>\n",
       "</table>\n",
       "</div>"
      ],
      "text/plain": [
       "                     CIN                                      Name  \\\n",
       "0  U15490MH2017PTC299682     SAINT AUBIN BEVERAGES PRIVATE LIMITED   \n",
       "1  U52390DL2016PTC290833        SAINT BEARD RETAIL PRIVATE LIMITED   \n",
       "2  U26933GJ2003PTC043224             SAINT CERAMIC PRIVATE LIMITED   \n",
       "3  U63030MH2017PTC295607  SAINT CRESCENS LOGISTICS PRIVATE LIMITED   \n",
       "4  U67190MH2007PTC171969          SAINT DEVELOPERS PRIVATE LIMITED   \n",
       "\n",
       "                                                 url        roc  status  \\\n",
       "0  https://www.zaubacorp.com/company/SAINT-AUBIN-...     Mumbai  Active   \n",
       "1  https://www.zaubacorp.com/company/SAINT-BEARD-...      Delhi  Active   \n",
       "2  https://www.zaubacorp.com/company/SAINT-CERAMI...  Ahmedabad  Active   \n",
       "3  https://www.zaubacorp.com/company/SAINT-CRESCE...     Mumbai  Active   \n",
       "4  https://www.zaubacorp.com/company/SAINT-DEVELO...     Mumbai  Active   \n",
       "\n",
       "                 ownership  \n",
       "0  Private Limited Company  \n",
       "1  Private Limited Company  \n",
       "2  Private Limited Company  \n",
       "3  Private Limited Company  \n",
       "4  Private Limited Company  "
      ]
     },
     "execution_count": 6,
     "metadata": {},
     "output_type": "execute_result"
    }
   ],
   "source": [
    "d.head()"
   ]
  },
  {
   "cell_type": "code",
   "execution_count": 7,
   "id": "338c21c0",
   "metadata": {},
   "outputs": [],
   "source": [
    "cols = ['Company Category','Company Sub Category','Class of Company','Date of Incorporation','Age of Company',\n",
    "       'Activity','Authorised Capital','Paid up capital','Director Name','Address']\n",
    "df = pd.DataFrame(columns=cols)"
   ]
  },
  {
   "cell_type": "code",
   "execution_count": null,
   "id": "6d205d1d",
   "metadata": {},
   "outputs": [
    {
     "name": "stdout",
     "output_type": "stream",
     "text": [
      "100\n",
      "200\n",
      "300\n",
      "400\n",
      "500\n",
      "600\n",
      "700\n",
      "800\n"
     ]
    }
   ],
   "source": [
    "c=0\n",
    "for url in d.url[35000:40000]:\n",
    "    c+=1\n",
    "    try:\n",
    "        page = requests.get(url)\n",
    "        soup = BeautifulSoup(page.text, 'lxml')\n",
    "        table1 = soup.findAll('table')\n",
    "        table3 = soup.find('div', class_='col-12')\n",
    "        l = [table1[0].find_all('p')[i].text for i in range(1,len(table1[0].find_all('p')),2)][5:-1]\n",
    "        l.append(table1[3].find_all('p')[1].text)\n",
    "        l.append(table1[3].find_all('p')[3].text)\n",
    "        l.append(table1[7].find_all('p')[1].text)\n",
    "        l.append(table3.find_all('p')[3].text)\n",
    "        df.loc[len(df)] = l\n",
    "    except:\n",
    "        df.loc[len(df)] = [np.nan]*df.shape[1]\n",
    "    if c%100==0:\n",
    "        print(c)"
   ]
  },
  {
   "cell_type": "code",
   "execution_count": null,
   "id": "8cdfa136",
   "metadata": {},
   "outputs": [],
   "source": []
  }
 ],
 "metadata": {
  "kernelspec": {
   "display_name": "indickernel",
   "language": "python",
   "name": "indickernel"
  },
  "language_info": {
   "codemirror_mode": {
    "name": "ipython",
    "version": 3
   },
   "file_extension": ".py",
   "mimetype": "text/x-python",
   "name": "python",
   "nbconvert_exporter": "python",
   "pygments_lexer": "ipython3",
   "version": "3.8.8"
  }
 },
 "nbformat": 4,
 "nbformat_minor": 5
}
