{
 "cells": [
  {
   "cell_type": "code",
   "execution_count": 1,
   "id": "7660a74d",
   "metadata": {
    "_cell_guid": "b1076dfc-b9ad-4769-8c92-a6c4dae69d19",
    "_uuid": "8f2839f25d086af736a60e9eeb907d3b93b6e0e5",
    "execution": {
     "iopub.execute_input": "2022-03-26T08:42:17.631930Z",
     "iopub.status.busy": "2022-03-26T08:42:17.630708Z",
     "iopub.status.idle": "2022-03-26T08:42:17.652220Z",
     "shell.execute_reply": "2022-03-26T08:42:17.652851Z",
     "shell.execute_reply.started": "2022-03-26T08:09:38.978372Z"
    },
    "papermill": {
     "duration": 0.045115,
     "end_time": "2022-03-26T08:42:17.653173",
     "exception": false,
     "start_time": "2022-03-26T08:42:17.608058",
     "status": "completed"
    },
    "tags": []
   },
   "outputs": [
    {
     "name": "stdout",
     "output_type": "stream",
     "text": [
      "/kaggle/input/indian-companies/indian_companies.csv\n",
      "/kaggle/input/160k-data/1-60000.csv\n"
     ]
    }
   ],
   "source": [
    "# This Python 3 environment comes with many helpful analytics libraries installed\n",
    "# It is defined by the kaggle/python Docker image: https://github.com/kaggle/docker-python\n",
    "# For example, here's several helpful packages to load\n",
    "\n",
    "import numpy as np # linear algebra\n",
    "import pandas as pd # data processing, CSV file I/O (e.g. pd.read_csv)\n",
    "\n",
    "# Input data files are available in the read-only \"../input/\" directory\n",
    "# For example, running this (by clicking run or pressing Shift+Enter) will list all files under the input directory\n",
    "\n",
    "import os\n",
    "for dirname, _, filenames in os.walk('/kaggle/input'):\n",
    "    for filename in filenames:\n",
    "        print(os.path.join(dirname, filename))\n",
    "\n",
    "# You can write up to 20GB to the current directory (/kaggle/working/) that gets preserved as output when you create a version using \"Save & Run All\" \n",
    "# You can also write temporary files to /kaggle/temp/, but they won't be saved outside of the current session"
   ]
  },
  {
   "cell_type": "code",
   "execution_count": 2,
   "id": "9897ae1f",
   "metadata": {
    "execution": {
     "iopub.execute_input": "2022-03-26T08:42:17.696962Z",
     "iopub.status.busy": "2022-03-26T08:42:17.696271Z",
     "iopub.status.idle": "2022-03-26T08:42:17.698397Z",
     "shell.execute_reply": "2022-03-26T08:42:17.698974Z",
     "shell.execute_reply.started": "2022-03-26T08:09:39.015649Z"
    },
    "papermill": {
     "duration": 0.026105,
     "end_time": "2022-03-26T08:42:17.699140",
     "exception": false,
     "start_time": "2022-03-26T08:42:17.673035",
     "status": "completed"
    },
    "tags": []
   },
   "outputs": [],
   "source": [
    "import pandas as pd\n",
    "import numpy as np"
   ]
  },
  {
   "cell_type": "code",
   "execution_count": 3,
   "id": "d025342d",
   "metadata": {
    "execution": {
     "iopub.execute_input": "2022-03-26T08:42:17.740161Z",
     "iopub.status.busy": "2022-03-26T08:42:17.739518Z",
     "iopub.status.idle": "2022-03-26T08:42:18.060006Z",
     "shell.execute_reply": "2022-03-26T08:42:18.061130Z",
     "shell.execute_reply.started": "2022-03-26T08:09:39.019981Z"
    },
    "papermill": {
     "duration": 0.343193,
     "end_time": "2022-03-26T08:42:18.061402",
     "exception": false,
     "start_time": "2022-03-26T08:42:17.718209",
     "status": "completed"
    },
    "tags": []
   },
   "outputs": [],
   "source": [
    "from bs4 import BeautifulSoup\n",
    "import requests\n",
    "\n",
    "#from selenium import webdriver\n",
    "#from selenium.webdriver.chrome.service import Service\n",
    "#from webdriver_manager.chrome import ChromeDriverManager\n",
    "#from selenium.webdriver.common.by import By"
   ]
  },
  {
   "cell_type": "code",
   "execution_count": 4,
   "id": "33b1577c",
   "metadata": {
    "execution": {
     "iopub.execute_input": "2022-03-26T08:42:18.113556Z",
     "iopub.status.busy": "2022-03-26T08:42:18.112810Z",
     "iopub.status.idle": "2022-03-26T08:42:18.455963Z",
     "shell.execute_reply": "2022-03-26T08:42:18.456493Z",
     "shell.execute_reply.started": "2022-03-26T08:09:39.299162Z"
    },
    "papermill": {
     "duration": 0.37075,
     "end_time": "2022-03-26T08:42:18.456662",
     "exception": false,
     "start_time": "2022-03-26T08:42:18.085912",
     "status": "completed"
    },
    "tags": []
   },
   "outputs": [],
   "source": [
    "data = pd.read_csv('../input/160k-data/1-60000.csv')\n",
    "#driver = webdriver.Chrome(service=Service(ChromeDriverManager().install()))\n",
    "#driver.get('https://business.mapsofindia.com/india-company/')\n",
    "#driver.maximize_window()"
   ]
  },
  {
   "cell_type": "code",
   "execution_count": 5,
   "id": "86c96958",
   "metadata": {
    "execution": {
     "iopub.execute_input": "2022-03-26T08:42:18.498106Z",
     "iopub.status.busy": "2022-03-26T08:42:18.497486Z",
     "iopub.status.idle": "2022-03-26T08:42:18.522197Z",
     "shell.execute_reply": "2022-03-26T08:42:18.522659Z",
     "shell.execute_reply.started": "2022-03-26T08:09:39.601319Z"
    },
    "papermill": {
     "duration": 0.047164,
     "end_time": "2022-03-26T08:42:18.522847",
     "exception": false,
     "start_time": "2022-03-26T08:42:18.475683",
     "status": "completed"
    },
    "tags": []
   },
   "outputs": [],
   "source": [
    "d = data[data.ownership!='Limited Liability Partnership']"
   ]
  },
  {
   "cell_type": "code",
   "execution_count": 6,
   "id": "1cd60521",
   "metadata": {
    "execution": {
     "iopub.execute_input": "2022-03-26T08:42:18.564308Z",
     "iopub.status.busy": "2022-03-26T08:42:18.563657Z",
     "iopub.status.idle": "2022-03-26T08:42:18.583101Z",
     "shell.execute_reply": "2022-03-26T08:42:18.582445Z",
     "shell.execute_reply.started": "2022-03-26T08:09:39.623359Z"
    },
    "papermill": {
     "duration": 0.041395,
     "end_time": "2022-03-26T08:42:18.583247",
     "exception": false,
     "start_time": "2022-03-26T08:42:18.541852",
     "status": "completed"
    },
    "tags": []
   },
   "outputs": [
    {
     "data": {
      "text/html": [
       "<div>\n",
       "<style scoped>\n",
       "    .dataframe tbody tr th:only-of-type {\n",
       "        vertical-align: middle;\n",
       "    }\n",
       "\n",
       "    .dataframe tbody tr th {\n",
       "        vertical-align: top;\n",
       "    }\n",
       "\n",
       "    .dataframe thead th {\n",
       "        text-align: right;\n",
       "    }\n",
       "</style>\n",
       "<table border=\"1\" class=\"dataframe\">\n",
       "  <thead>\n",
       "    <tr style=\"text-align: right;\">\n",
       "      <th></th>\n",
       "      <th>CIN</th>\n",
       "      <th>Name</th>\n",
       "      <th>url</th>\n",
       "      <th>roc</th>\n",
       "      <th>status</th>\n",
       "      <th>ownership</th>\n",
       "    </tr>\n",
       "  </thead>\n",
       "  <tbody>\n",
       "    <tr>\n",
       "      <th>0</th>\n",
       "      <td>U22219MP2018PTC046363</td>\n",
       "      <td>JEVI PRINTPACK PRIVATE LIMITED</td>\n",
       "      <td>https://www.zaubacorp.com/company/JEVI-PRINTPA...</td>\n",
       "      <td>Gwalior</td>\n",
       "      <td>Active</td>\n",
       "      <td>Private Limited Company</td>\n",
       "    </tr>\n",
       "    <tr>\n",
       "      <th>2</th>\n",
       "      <td>U74120MH2012PTC238343</td>\n",
       "      <td>JEVION FASHION PRIVATE LIMITED</td>\n",
       "      <td>https://www.zaubacorp.com/company/JEVION-FASHI...</td>\n",
       "      <td>Mumbai</td>\n",
       "      <td>Active</td>\n",
       "      <td>Private Limited Company</td>\n",
       "    </tr>\n",
       "    <tr>\n",
       "      <th>4</th>\n",
       "      <td>U74999DL2020PTC374078</td>\n",
       "      <td>JEVITAX CONSULTANT PRIVATE LIMITED</td>\n",
       "      <td>https://www.zaubacorp.com/company/JEVITAX-CONS...</td>\n",
       "      <td>Delhi</td>\n",
       "      <td>Active</td>\n",
       "      <td>Private Limited Company</td>\n",
       "    </tr>\n",
       "    <tr>\n",
       "      <th>5</th>\n",
       "      <td>U24134WB1986PTC041478</td>\n",
       "      <td>JEWAN ENTERPRISES PVT LTD</td>\n",
       "      <td>https://www.zaubacorp.com/company/JEWAN-ENTERP...</td>\n",
       "      <td>Kolkata</td>\n",
       "      <td>Active</td>\n",
       "      <td>Private Limited Company</td>\n",
       "    </tr>\n",
       "    <tr>\n",
       "      <th>6</th>\n",
       "      <td>U72900UP2022PTC158336</td>\n",
       "      <td>JEWAR HITECH PRIVATE LIMITED</td>\n",
       "      <td>https://www.zaubacorp.com/company/JEWAR-HITECH...</td>\n",
       "      <td>Kanpur</td>\n",
       "      <td>Active</td>\n",
       "      <td>Private Limited Company</td>\n",
       "    </tr>\n",
       "  </tbody>\n",
       "</table>\n",
       "</div>"
      ],
      "text/plain": [
       "                     CIN                                Name  \\\n",
       "0  U22219MP2018PTC046363      JEVI PRINTPACK PRIVATE LIMITED   \n",
       "2  U74120MH2012PTC238343      JEVION FASHION PRIVATE LIMITED   \n",
       "4  U74999DL2020PTC374078  JEVITAX CONSULTANT PRIVATE LIMITED   \n",
       "5  U24134WB1986PTC041478           JEWAN ENTERPRISES PVT LTD   \n",
       "6  U72900UP2022PTC158336        JEWAR HITECH PRIVATE LIMITED   \n",
       "\n",
       "                                                 url      roc  status  \\\n",
       "0  https://www.zaubacorp.com/company/JEVI-PRINTPA...  Gwalior  Active   \n",
       "2  https://www.zaubacorp.com/company/JEVION-FASHI...   Mumbai  Active   \n",
       "4  https://www.zaubacorp.com/company/JEVITAX-CONS...    Delhi  Active   \n",
       "5  https://www.zaubacorp.com/company/JEWAN-ENTERP...  Kolkata  Active   \n",
       "6  https://www.zaubacorp.com/company/JEWAR-HITECH...   Kanpur  Active   \n",
       "\n",
       "                 ownership  \n",
       "0  Private Limited Company  \n",
       "2  Private Limited Company  \n",
       "4  Private Limited Company  \n",
       "5  Private Limited Company  \n",
       "6  Private Limited Company  "
      ]
     },
     "execution_count": 6,
     "metadata": {},
     "output_type": "execute_result"
    }
   ],
   "source": [
    "d.head()"
   ]
  },
  {
   "cell_type": "code",
   "execution_count": null,
   "id": "f7e22c04",
   "metadata": {
    "papermill": {
     "duration": 0.019075,
     "end_time": "2022-03-26T08:42:18.621928",
     "exception": false,
     "start_time": "2022-03-26T08:42:18.602853",
     "status": "completed"
    },
    "tags": []
   },
   "outputs": [],
   "source": []
  },
  {
   "cell_type": "code",
   "execution_count": 7,
   "id": "65caa3ac",
   "metadata": {
    "execution": {
     "iopub.execute_input": "2022-03-26T08:42:18.669133Z",
     "iopub.status.busy": "2022-03-26T08:42:18.668470Z",
     "iopub.status.idle": "2022-03-26T08:42:18.671605Z",
     "shell.execute_reply": "2022-03-26T08:42:18.671046Z",
     "shell.execute_reply.started": "2022-03-26T08:09:39.641828Z"
    },
    "papermill": {
     "duration": 0.030047,
     "end_time": "2022-03-26T08:42:18.671756",
     "exception": false,
     "start_time": "2022-03-26T08:42:18.641709",
     "status": "completed"
    },
    "tags": []
   },
   "outputs": [],
   "source": [
    "cols = ['Company Category','Company Sub Category','Class of Company','Date of Incorporation','Age of Company',\n",
    "       'Activity','Authorised Capital','Paid up capital','Director Name','Address']\n",
    "df = pd.DataFrame(columns=cols)"
   ]
  },
  {
   "cell_type": "code",
   "execution_count": null,
   "id": "c1bd11eb",
   "metadata": {
    "papermill": {
     "duration": 0.019299,
     "end_time": "2022-03-26T08:42:18.711225",
     "exception": false,
     "start_time": "2022-03-26T08:42:18.691926",
     "status": "completed"
    },
    "tags": []
   },
   "outputs": [],
   "source": []
  },
  {
   "cell_type": "code",
   "execution_count": 8,
   "id": "dcc5bee5",
   "metadata": {
    "execution": {
     "iopub.execute_input": "2022-03-26T08:42:18.754821Z",
     "iopub.status.busy": "2022-03-26T08:42:18.753884Z",
     "iopub.status.idle": "2022-03-26T09:30:42.816960Z",
     "shell.execute_reply": "2022-03-26T09:30:42.817559Z",
     "shell.execute_reply.started": "2022-03-26T08:09:39.650510Z"
    },
    "papermill": {
     "duration": 2904.087189,
     "end_time": "2022-03-26T09:30:42.818028",
     "exception": false,
     "start_time": "2022-03-26T08:42:18.730839",
     "status": "completed"
    },
    "tags": []
   },
   "outputs": [
    {
     "name": "stdout",
     "output_type": "stream",
     "text": [
      "100\n",
      "200\n",
      "300\n",
      "400\n",
      "500\n",
      "600\n",
      "700\n",
      "800\n",
      "900\n",
      "1000\n",
      "1100\n",
      "1200\n",
      "1300\n",
      "1400\n",
      "1500\n",
      "1600\n",
      "1700\n",
      "1800\n",
      "1900\n",
      "2000\n",
      "2100\n",
      "2200\n",
      "2300\n",
      "2400\n",
      "2500\n",
      "2600\n",
      "2700\n",
      "2800\n",
      "2900\n",
      "3000\n"
     ]
    }
   ],
   "source": [
    "c=0\n",
    "for url in d.url[:3000]:\n",
    "    c+=1\n",
    "    try:\n",
    "        page = requests.get(url)\n",
    "        soup = BeautifulSoup(page.text, 'lxml')\n",
    "        table1 = soup.findAll('table')\n",
    "        table3 = soup.find('div', class_='col-12')\n",
    "        l = [table1[0].find_all('p')[i].text for i in range(1,len(table1[0].find_all('p')),2)][5:-1]\n",
    "        l.append(table1[3].find_all('p')[1].text)\n",
    "        l.append(table1[3].find_all('p')[3].text)\n",
    "        l.append(table1[7].find_all('p')[1].text)\n",
    "        l.append(table3.find_all('p')[3].text)\n",
    "        df.loc[len(df)] = l\n",
    "    except:\n",
    "        df.loc[len(df)] = [np.nan]*df.shape[1]\n",
    "    if c%100==0:\n",
    "        print(c)"
   ]
  },
  {
   "cell_type": "code",
   "execution_count": 9,
   "id": "1e5611ff",
   "metadata": {
    "execution": {
     "iopub.execute_input": "2022-03-26T09:30:42.884793Z",
     "iopub.status.busy": "2022-03-26T09:30:42.883981Z",
     "iopub.status.idle": "2022-03-26T09:30:42.887763Z",
     "shell.execute_reply": "2022-03-26T09:30:42.887173Z",
     "shell.execute_reply.started": "2022-03-26T08:09:48.368365Z"
    },
    "papermill": {
     "duration": 0.039388,
     "end_time": "2022-03-26T09:30:42.887906",
     "exception": false,
     "start_time": "2022-03-26T09:30:42.848518",
     "status": "completed"
    },
    "tags": []
   },
   "outputs": [
    {
     "data": {
      "text/plain": [
       "(51619, 6)"
      ]
     },
     "execution_count": 9,
     "metadata": {},
     "output_type": "execute_result"
    }
   ],
   "source": [
    "d.shape"
   ]
  },
  {
   "cell_type": "code",
   "execution_count": 10,
   "id": "0d7b0147",
   "metadata": {
    "execution": {
     "iopub.execute_input": "2022-03-26T09:30:42.957034Z",
     "iopub.status.busy": "2022-03-26T09:30:42.956080Z",
     "iopub.status.idle": "2022-03-26T09:30:42.959456Z",
     "shell.execute_reply": "2022-03-26T09:30:42.959979Z",
     "shell.execute_reply.started": "2022-03-26T08:09:48.378341Z"
    },
    "papermill": {
     "duration": 0.040623,
     "end_time": "2022-03-26T09:30:42.960150",
     "exception": false,
     "start_time": "2022-03-26T09:30:42.919527",
     "status": "completed"
    },
    "tags": []
   },
   "outputs": [
    {
     "data": {
      "text/plain": [
       "(3000, 6)"
      ]
     },
     "execution_count": 10,
     "metadata": {},
     "output_type": "execute_result"
    }
   ],
   "source": [
    "temp = d[:3000]\n",
    "temp.reset_index(drop=True,inplace=True)\n",
    "temp.shape"
   ]
  },
  {
   "cell_type": "code",
   "execution_count": 11,
   "id": "5d550408",
   "metadata": {
    "execution": {
     "iopub.execute_input": "2022-03-26T09:30:43.036057Z",
     "iopub.status.busy": "2022-03-26T09:30:43.035109Z",
     "iopub.status.idle": "2022-03-26T09:30:43.039142Z",
     "shell.execute_reply": "2022-03-26T09:30:43.038557Z",
     "shell.execute_reply.started": "2022-03-26T08:09:48.387593Z"
    },
    "papermill": {
     "duration": 0.04771,
     "end_time": "2022-03-26T09:30:43.039281",
     "exception": false,
     "start_time": "2022-03-26T09:30:42.991571",
     "status": "completed"
    },
    "tags": []
   },
   "outputs": [
    {
     "data": {
      "text/html": [
       "<div>\n",
       "<style scoped>\n",
       "    .dataframe tbody tr th:only-of-type {\n",
       "        vertical-align: middle;\n",
       "    }\n",
       "\n",
       "    .dataframe tbody tr th {\n",
       "        vertical-align: top;\n",
       "    }\n",
       "\n",
       "    .dataframe thead th {\n",
       "        text-align: right;\n",
       "    }\n",
       "</style>\n",
       "<table border=\"1\" class=\"dataframe\">\n",
       "  <thead>\n",
       "    <tr style=\"text-align: right;\">\n",
       "      <th></th>\n",
       "      <th>CIN</th>\n",
       "      <th>Name</th>\n",
       "      <th>url</th>\n",
       "      <th>roc</th>\n",
       "      <th>status</th>\n",
       "      <th>ownership</th>\n",
       "    </tr>\n",
       "  </thead>\n",
       "  <tbody>\n",
       "    <tr>\n",
       "      <th>2995</th>\n",
       "      <td>U72200PN2013PTC149993</td>\n",
       "      <td>ROOTAGE SOFTWARE SOLUTIONS PRIVATE LIMITED</td>\n",
       "      <td>https://www.zaubacorp.com/company/ROOTAGE-SOFT...</td>\n",
       "      <td>Pune</td>\n",
       "      <td>Active</td>\n",
       "      <td>Private Limited Company</td>\n",
       "    </tr>\n",
       "    <tr>\n",
       "      <th>2996</th>\n",
       "      <td>U93000KA2018NPL118812</td>\n",
       "      <td>ROOTBOAT FOUNDATION</td>\n",
       "      <td>https://www.zaubacorp.com/company/ROOTBOAT-FOU...</td>\n",
       "      <td>Bangalore</td>\n",
       "      <td>Active</td>\n",
       "      <td>Not-for-Profit License Company</td>\n",
       "    </tr>\n",
       "    <tr>\n",
       "      <th>2997</th>\n",
       "      <td>U72900DL2016PTC305210</td>\n",
       "      <td>ROOTBOX TECHNOLOGIES PRIVATE LIMITED</td>\n",
       "      <td>https://www.zaubacorp.com/company/ROOTBOX-TECH...</td>\n",
       "      <td>Delhi</td>\n",
       "      <td>Active</td>\n",
       "      <td>Private Limited Company</td>\n",
       "    </tr>\n",
       "    <tr>\n",
       "      <th>2998</th>\n",
       "      <td>U67190KA2019PTC123777</td>\n",
       "      <td>ROOTBRIDGE ACADEMY PRIVATE LIMITED</td>\n",
       "      <td>https://www.zaubacorp.com/company/ROOTBRIDGE-A...</td>\n",
       "      <td>Bangalore</td>\n",
       "      <td>Active</td>\n",
       "      <td>Private Limited Company</td>\n",
       "    </tr>\n",
       "    <tr>\n",
       "      <th>2999</th>\n",
       "      <td>U74999KL2018PTC055792</td>\n",
       "      <td>ROOTBRIDGE ENTERPRISES PRIVATE LIMITED</td>\n",
       "      <td>https://www.zaubacorp.com/company/ROOTBRIDGE-E...</td>\n",
       "      <td>Ernakulam</td>\n",
       "      <td>Active</td>\n",
       "      <td>Private Limited Company</td>\n",
       "    </tr>\n",
       "  </tbody>\n",
       "</table>\n",
       "</div>"
      ],
      "text/plain": [
       "                        CIN                                        Name  \\\n",
       "2995  U72200PN2013PTC149993  ROOTAGE SOFTWARE SOLUTIONS PRIVATE LIMITED   \n",
       "2996  U93000KA2018NPL118812                         ROOTBOAT FOUNDATION   \n",
       "2997  U72900DL2016PTC305210        ROOTBOX TECHNOLOGIES PRIVATE LIMITED   \n",
       "2998  U67190KA2019PTC123777          ROOTBRIDGE ACADEMY PRIVATE LIMITED   \n",
       "2999  U74999KL2018PTC055792      ROOTBRIDGE ENTERPRISES PRIVATE LIMITED   \n",
       "\n",
       "                                                    url        roc  status  \\\n",
       "2995  https://www.zaubacorp.com/company/ROOTAGE-SOFT...       Pune  Active   \n",
       "2996  https://www.zaubacorp.com/company/ROOTBOAT-FOU...  Bangalore  Active   \n",
       "2997  https://www.zaubacorp.com/company/ROOTBOX-TECH...      Delhi  Active   \n",
       "2998  https://www.zaubacorp.com/company/ROOTBRIDGE-A...  Bangalore  Active   \n",
       "2999  https://www.zaubacorp.com/company/ROOTBRIDGE-E...  Ernakulam  Active   \n",
       "\n",
       "                           ownership  \n",
       "2995         Private Limited Company  \n",
       "2996  Not-for-Profit License Company  \n",
       "2997         Private Limited Company  \n",
       "2998         Private Limited Company  \n",
       "2999         Private Limited Company  "
      ]
     },
     "execution_count": 11,
     "metadata": {},
     "output_type": "execute_result"
    }
   ],
   "source": [
    "temp.tail()"
   ]
  },
  {
   "cell_type": "code",
   "execution_count": 12,
   "id": "9c524f25",
   "metadata": {
    "execution": {
     "iopub.execute_input": "2022-03-26T09:30:43.107665Z",
     "iopub.status.busy": "2022-03-26T09:30:43.106716Z",
     "iopub.status.idle": "2022-03-26T09:30:43.120816Z",
     "shell.execute_reply": "2022-03-26T09:30:43.121317Z",
     "shell.execute_reply.started": "2022-03-26T08:09:48.404403Z"
    },
    "papermill": {
     "duration": 0.05023,
     "end_time": "2022-03-26T09:30:43.121482",
     "exception": false,
     "start_time": "2022-03-26T09:30:43.071252",
     "status": "completed"
    },
    "tags": []
   },
   "outputs": [
    {
     "data": {
      "text/html": [
       "<div>\n",
       "<style scoped>\n",
       "    .dataframe tbody tr th:only-of-type {\n",
       "        vertical-align: middle;\n",
       "    }\n",
       "\n",
       "    .dataframe tbody tr th {\n",
       "        vertical-align: top;\n",
       "    }\n",
       "\n",
       "    .dataframe thead th {\n",
       "        text-align: right;\n",
       "    }\n",
       "</style>\n",
       "<table border=\"1\" class=\"dataframe\">\n",
       "  <thead>\n",
       "    <tr style=\"text-align: right;\">\n",
       "      <th></th>\n",
       "      <th>Company Category</th>\n",
       "      <th>Company Sub Category</th>\n",
       "      <th>Class of Company</th>\n",
       "      <th>Date of Incorporation</th>\n",
       "      <th>Age of Company</th>\n",
       "      <th>Activity</th>\n",
       "      <th>Authorised Capital</th>\n",
       "      <th>Paid up capital</th>\n",
       "      <th>Director Name</th>\n",
       "      <th>Address</th>\n",
       "    </tr>\n",
       "  </thead>\n",
       "  <tbody>\n",
       "    <tr>\n",
       "      <th>2995</th>\n",
       "      <td>Company limited by Shares</td>\n",
       "      <td>Non-govt company</td>\n",
       "      <td>Private</td>\n",
       "      <td>31 December 2013</td>\n",
       "      <td>8 years, 2 month, 26 days</td>\n",
       "      <td>Software publishing, consultancy and supply [S...</td>\n",
       "      <td>₹100,000</td>\n",
       "      <td>₹100,000</td>\n",
       "      <td>RAJESH BIBHISHANRAO JAGDALE</td>\n",
       "      <td>FLAT NO. 301, F- WING, WINDWARDS, S.NO. 236/23...</td>\n",
       "    </tr>\n",
       "    <tr>\n",
       "      <th>2996</th>\n",
       "      <td>Company limited by Shares</td>\n",
       "      <td>Non-govt company</td>\n",
       "      <td>Private</td>\n",
       "      <td>26 November 2018</td>\n",
       "      <td>3 years, 4 month, 0 days</td>\n",
       "      <td>Other service activities</td>\n",
       "      <td>₹100,000</td>\n",
       "      <td>₹100,000</td>\n",
       "      <td>RAJESH SUDHAKAR</td>\n",
       "      <td>H.NO. 20, VISHWANATH NAGENENAHALLI BANGALORE B...</td>\n",
       "    </tr>\n",
       "    <tr>\n",
       "      <th>2997</th>\n",
       "      <td>Company limited by Shares</td>\n",
       "      <td>Non-govt company</td>\n",
       "      <td>Private</td>\n",
       "      <td>31 August 2016</td>\n",
       "      <td>5 years, 6 month, 26 days</td>\n",
       "      <td>Other computer related activities [for example...</td>\n",
       "      <td>₹100,000</td>\n",
       "      <td>₹100,000</td>\n",
       "      <td>SEEMA ANAND</td>\n",
       "      <td>N 70/1, LANE W-17-O SAINIK FARMS SOUTH DELHI S...</td>\n",
       "    </tr>\n",
       "    <tr>\n",
       "      <th>2998</th>\n",
       "      <td>Company limited by Shares</td>\n",
       "      <td>Non-govt company</td>\n",
       "      <td>Private</td>\n",
       "      <td>25 April 2019</td>\n",
       "      <td>2 years, 11 month, 1 days</td>\n",
       "      <td>Activities auxiliary to financial intermediati...</td>\n",
       "      <td>₹100,000</td>\n",
       "      <td>₹2,000</td>\n",
       "      <td>ANANTHAPADMANABHAN GURUSWAMY</td>\n",
       "      <td>Mana Candela Apartment, Flat No. G-10, Kodathi...</td>\n",
       "    </tr>\n",
       "    <tr>\n",
       "      <th>2999</th>\n",
       "      <td>Company limited by Shares</td>\n",
       "      <td>Non-govt company</td>\n",
       "      <td>Private</td>\n",
       "      <td>04 December 2018</td>\n",
       "      <td>3 years, 3 month, 22 days</td>\n",
       "      <td>Business activities n.e.c.</td>\n",
       "      <td>₹1,000,000</td>\n",
       "      <td>₹500,000</td>\n",
       "      <td>TONY KONNOTH JOHN</td>\n",
       "      <td>SRAMBIKKAL TOWER,FIRST FLOOR,BUILDING NO 17/12...</td>\n",
       "    </tr>\n",
       "  </tbody>\n",
       "</table>\n",
       "</div>"
      ],
      "text/plain": [
       "               Company Category Company Sub Category Class of Company  \\\n",
       "2995  Company limited by Shares     Non-govt company          Private   \n",
       "2996  Company limited by Shares     Non-govt company          Private   \n",
       "2997  Company limited by Shares     Non-govt company          Private   \n",
       "2998  Company limited by Shares     Non-govt company          Private   \n",
       "2999  Company limited by Shares     Non-govt company          Private   \n",
       "\n",
       "     Date of Incorporation             Age of Company  \\\n",
       "2995      31 December 2013  8 years, 2 month, 26 days   \n",
       "2996      26 November 2018   3 years, 4 month, 0 days   \n",
       "2997        31 August 2016  5 years, 6 month, 26 days   \n",
       "2998         25 April 2019  2 years, 11 month, 1 days   \n",
       "2999      04 December 2018  3 years, 3 month, 22 days   \n",
       "\n",
       "                                               Activity Authorised Capital  \\\n",
       "2995  Software publishing, consultancy and supply [S...           ₹100,000   \n",
       "2996                           Other service activities           ₹100,000   \n",
       "2997  Other computer related activities [for example...           ₹100,000   \n",
       "2998  Activities auxiliary to financial intermediati...           ₹100,000   \n",
       "2999                         Business activities n.e.c.         ₹1,000,000   \n",
       "\n",
       "     Paid up capital                  Director Name  \\\n",
       "2995        ₹100,000    RAJESH BIBHISHANRAO JAGDALE   \n",
       "2996        ₹100,000                RAJESH SUDHAKAR   \n",
       "2997        ₹100,000                    SEEMA ANAND   \n",
       "2998          ₹2,000   ANANTHAPADMANABHAN GURUSWAMY   \n",
       "2999        ₹500,000              TONY KONNOTH JOHN   \n",
       "\n",
       "                                                Address  \n",
       "2995  FLAT NO. 301, F- WING, WINDWARDS, S.NO. 236/23...  \n",
       "2996  H.NO. 20, VISHWANATH NAGENENAHALLI BANGALORE B...  \n",
       "2997  N 70/1, LANE W-17-O SAINIK FARMS SOUTH DELHI S...  \n",
       "2998  Mana Candela Apartment, Flat No. G-10, Kodathi...  \n",
       "2999  SRAMBIKKAL TOWER,FIRST FLOOR,BUILDING NO 17/12...  "
      ]
     },
     "execution_count": 12,
     "metadata": {},
     "output_type": "execute_result"
    }
   ],
   "source": [
    "df.tail()"
   ]
  },
  {
   "cell_type": "code",
   "execution_count": 13,
   "id": "68870c85",
   "metadata": {
    "execution": {
     "iopub.execute_input": "2022-03-26T09:30:43.191218Z",
     "iopub.status.busy": "2022-03-26T09:30:43.190269Z",
     "iopub.status.idle": "2022-03-26T09:30:43.202179Z",
     "shell.execute_reply": "2022-03-26T09:30:43.202678Z",
     "shell.execute_reply.started": "2022-03-26T08:09:48.422963Z"
    },
    "papermill": {
     "duration": 0.047945,
     "end_time": "2022-03-26T09:30:43.202843",
     "exception": false,
     "start_time": "2022-03-26T09:30:43.154898",
     "status": "completed"
    },
    "tags": []
   },
   "outputs": [
    {
     "name": "stderr",
     "output_type": "stream",
     "text": [
      "/opt/conda/lib/python3.7/site-packages/ipykernel_launcher.py:2: SettingWithCopyWarning: \n",
      "A value is trying to be set on a copy of a slice from a DataFrame.\n",
      "Try using .loc[row_indexer,col_indexer] = value instead\n",
      "\n",
      "See the caveats in the documentation: https://pandas.pydata.org/pandas-docs/stable/user_guide/indexing.html#returning-a-view-versus-a-copy\n",
      "  \n"
     ]
    }
   ],
   "source": [
    "for i in df.columns:\n",
    "    temp[i] = df[i]"
   ]
  },
  {
   "cell_type": "code",
   "execution_count": 14,
   "id": "7130e684",
   "metadata": {
    "execution": {
     "iopub.execute_input": "2022-03-26T09:30:43.272097Z",
     "iopub.status.busy": "2022-03-26T09:30:43.271477Z",
     "iopub.status.idle": "2022-03-26T09:30:43.277447Z",
     "shell.execute_reply": "2022-03-26T09:30:43.276922Z",
     "shell.execute_reply.started": "2022-03-26T08:09:48.437516Z"
    },
    "papermill": {
     "duration": 0.041787,
     "end_time": "2022-03-26T09:30:43.277592",
     "exception": false,
     "start_time": "2022-03-26T09:30:43.235805",
     "status": "completed"
    },
    "tags": []
   },
   "outputs": [
    {
     "data": {
      "text/plain": [
       "(3000, 16)"
      ]
     },
     "execution_count": 14,
     "metadata": {},
     "output_type": "execute_result"
    }
   ],
   "source": [
    "temp.shape"
   ]
  },
  {
   "cell_type": "code",
   "execution_count": 15,
   "id": "15289624",
   "metadata": {
    "execution": {
     "iopub.execute_input": "2022-03-26T09:30:43.348850Z",
     "iopub.status.busy": "2022-03-26T09:30:43.348220Z",
     "iopub.status.idle": "2022-03-26T09:30:43.442132Z",
     "shell.execute_reply": "2022-03-26T09:30:43.441466Z",
     "shell.execute_reply.started": "2022-03-26T08:09:48.443180Z"
    },
    "papermill": {
     "duration": 0.130789,
     "end_time": "2022-03-26T09:30:43.442281",
     "exception": false,
     "start_time": "2022-03-26T09:30:43.311492",
     "status": "completed"
    },
    "tags": []
   },
   "outputs": [
    {
     "name": "stdout",
     "output_type": "stream",
     "text": [
      "completed vardhan\n"
     ]
    }
   ],
   "source": [
    "temp.to_csv('1-3000.csv')\n",
    "print('completed vardhan')"
   ]
  },
  {
   "cell_type": "code",
   "execution_count": null,
   "id": "34aac2b7",
   "metadata": {
    "papermill": {
     "duration": 0.033831,
     "end_time": "2022-03-26T09:30:43.510079",
     "exception": false,
     "start_time": "2022-03-26T09:30:43.476248",
     "status": "completed"
    },
    "tags": []
   },
   "outputs": [],
   "source": []
  }
 ],
 "metadata": {
  "kernelspec": {
   "display_name": "Python 3 (ipykernel)",
   "language": "python",
   "name": "python3"
  },
  "language_info": {
   "codemirror_mode": {
    "name": "ipython",
    "version": 3
   },
   "file_extension": ".py",
   "mimetype": "text/x-python",
   "name": "python",
   "nbconvert_exporter": "python",
   "pygments_lexer": "ipython3",
   "version": "3.8.8"
  },
  "papermill": {
   "default_parameters": {},
   "duration": 2916.35626,
   "end_time": "2022-03-26T09:30:44.260647",
   "environment_variables": {},
   "exception": null,
   "input_path": "__notebook__.ipynb",
   "output_path": "__notebook__.ipynb",
   "parameters": {},
   "start_time": "2022-03-26T08:42:07.904387",
   "version": "2.3.3"
  }
 },
 "nbformat": 4,
 "nbformat_minor": 5
}
