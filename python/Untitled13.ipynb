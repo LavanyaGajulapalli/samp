{
 "cells": [
  {
   "cell_type": "code",
   "execution_count": 2,
   "id": "f90a7747",
   "metadata": {},
   "outputs": [
    {
     "name": "stdout",
     "output_type": "stream",
     "text": [
      "Collecting wikipedia-apiNote: you may need to restart the kernel to use updated packages.\n",
      "\n",
      "  Downloading Wikipedia-API-0.5.4.tar.gz (18 kB)\n",
      "  Preparing metadata (setup.py): started\n",
      "  Preparing metadata (setup.py): finished with status 'done'\n",
      "Requirement already satisfied: requests in d:\\indic\\lib\\site-packages (from wikipedia-api) (2.27.1)\n",
      "Requirement already satisfied: charset-normalizer~=2.0.0 in d:\\indic\\lib\\site-packages (from requests->wikipedia-api) (2.0.12)\n",
      "Requirement already satisfied: idna<4,>=2.5 in d:\\indic\\lib\\site-packages (from requests->wikipedia-api) (3.3)\n",
      "Requirement already satisfied: urllib3<1.27,>=1.21.1 in d:\\indic\\lib\\site-packages (from requests->wikipedia-api) (1.26.9)\n",
      "Requirement already satisfied: certifi>=2017.4.17 in d:\\indic\\lib\\site-packages (from requests->wikipedia-api) (2021.10.8)\n",
      "Building wheels for collected packages: wikipedia-api\n",
      "  Building wheel for wikipedia-api (setup.py): started\n",
      "  Building wheel for wikipedia-api (setup.py): finished with status 'done'\n",
      "  Created wheel for wikipedia-api: filename=Wikipedia_API-0.5.4-py3-none-any.whl size=13462 sha256=35980007e7934ee33c204d58e97aa36516b32245ed7cbf94c1e718d1ec5a08ce\n",
      "  Stored in directory: c:\\users\\lavayana\\appdata\\local\\pip\\cache\\wheels\\ed\\88\\e3\\da3d4d73cb91d659488cfa25913b84bbc26febec99d257bce9\n",
      "Successfully built wikipedia-api\n",
      "Installing collected packages: wikipedia-api\n",
      "Successfully installed wikipedia-api-0.5.4\n"
     ]
    }
   ],
   "source": [
    "pip install wikipedia-api"
   ]
  },
  {
   "cell_type": "code",
   "execution_count": 3,
   "id": "80d4783d",
   "metadata": {},
   "outputs": [],
   "source": [
    "import wikipediaapi"
   ]
  },
  {
   "cell_type": "code",
   "execution_count": 18,
   "id": "6d59aefb",
   "metadata": {},
   "outputs": [],
   "source": [
    "wiki=wikipediaapi.Wikipedia(\"en\")\n",
    "page=wiki.page(\"Adani Power Ltd.\")"
   ]
  },
  {
   "cell_type": "code",
   "execution_count": 19,
   "id": "897f92d0",
   "metadata": {},
   "outputs": [
    {
     "ename": "KeyError",
     "evalue": "'fullurl'",
     "output_type": "error",
     "traceback": [
      "\u001b[1;31m---------------------------------------------------------------------------\u001b[0m",
      "\u001b[1;31mKeyError\u001b[0m                                  Traceback (most recent call last)",
      "Input \u001b[1;32mIn [19]\u001b[0m, in \u001b[0;36m<cell line: 1>\u001b[1;34m()\u001b[0m\n\u001b[1;32m----> 1\u001b[0m \u001b[38;5;28mprint\u001b[39m(\u001b[43mpage\u001b[49m\u001b[38;5;241;43m.\u001b[39;49m\u001b[43mfullurl\u001b[49m)\n",
      "File \u001b[1;32md:\\indic\\lib\\site-packages\\wikipediaapi\\__init__.py:962\u001b[0m, in \u001b[0;36mWikipediaPage.__getattr__\u001b[1;34m(self, name)\u001b[0m\n\u001b[0;32m    960\u001b[0m \u001b[38;5;28;01mif\u001b[39;00m \u001b[38;5;129;01mnot\u001b[39;00m \u001b[38;5;28mself\u001b[39m\u001b[38;5;241m.\u001b[39m_called[call]:\n\u001b[0;32m    961\u001b[0m     \u001b[38;5;28mgetattr\u001b[39m(\u001b[38;5;28mself\u001b[39m, \u001b[38;5;124m\"\u001b[39m\u001b[38;5;124m_fetch\u001b[39m\u001b[38;5;124m\"\u001b[39m)(call)\n\u001b[1;32m--> 962\u001b[0m     \u001b[38;5;28;01mreturn\u001b[39;00m \u001b[38;5;28;43mself\u001b[39;49m\u001b[38;5;241;43m.\u001b[39;49m\u001b[43m_attributes\u001b[49m\u001b[43m[\u001b[49m\u001b[43mname\u001b[49m\u001b[43m]\u001b[49m\n",
      "\u001b[1;31mKeyError\u001b[0m: 'fullurl'"
     ]
    }
   ],
   "source": [
    "print(page.fullurl)"
   ]
  },
  {
   "cell_type": "code",
   "execution_count": null,
   "id": "245343e2",
   "metadata": {},
   "outputs": [],
   "source": []
  },
  {
   "cell_type": "code",
   "execution_count": null,
   "id": "95a9f80f",
   "metadata": {},
   "outputs": [],
   "source": []
  }
 ],
 "metadata": {
  "kernelspec": {
   "display_name": "indickernel",
   "language": "python",
   "name": "indickernel"
  },
  "language_info": {
   "codemirror_mode": {
    "name": "ipython",
    "version": 3
   },
   "file_extension": ".py",
   "mimetype": "text/x-python",
   "name": "python",
   "nbconvert_exporter": "python",
   "pygments_lexer": "ipython3",
   "version": "3.8.8"
  }
 },
 "nbformat": 4,
 "nbformat_minor": 5
}
