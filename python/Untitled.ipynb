{
 "cells": [
  {
   "cell_type": "code",
   "execution_count": 1,
   "id": "7c02af30",
   "metadata": {},
   "outputs": [],
   "source": [
    "import csv"
   ]
  },
  {
   "cell_type": "code",
   "execution_count": null,
   "id": "6168f3aa",
   "metadata": {},
   "outputs": [],
   "source": []
  },
  {
   "cell_type": "code",
   "execution_count": 4,
   "id": "b8820eb2",
   "metadata": {},
   "outputs": [],
   "source": [
    "from selenium import webdriver\n",
    "from selenium.webdriver.chrome.options import Options\n",
    "from selenium.webdriver.common.keys import Keys\n",
    "from selenium.webdriver.support import expected_conditions as EC\n",
    "from selenium.webdriver.common.by import By\n",
    "from selenium.webdriver.support.wait import WebDriverWait\n",
    "from selenium.webdriver.chrome.service import Service"
   ]
  },
  {
   "cell_type": "code",
   "execution_count": 5,
   "id": "b78c81de",
   "metadata": {},
   "outputs": [],
   "source": [
    "s=Service(\"D:\\chromedrive\\chromedriver.exe\")\n",
    "browser=webdriver.Chrome(service=s)"
   ]
  },
  {
   "cell_type": "code",
   "execution_count": 6,
   "id": "648c143c",
   "metadata": {},
   "outputs": [],
   "source": [
    "class craw():\n",
    "    def __init__(self,title,price):\n",
    "        self.title=title\n",
    "        self.price=price"
   ]
  },
  {
   "cell_type": "code",
   "execution_count": 11,
   "id": "885a7c39",
   "metadata": {},
   "outputs": [],
   "source": [
    "class Bot():\n",
    "    def article(self,name):\n",
    "        count=1\n",
    "        page=1\n",
    "        pincre=10\n",
    "        maxre=100\n",
    "        url=\"https://www.amazon.com/s?k=\"+name+\"&page=\"+str(page)\n",
    "        option=Options()\n",
    "        options.headless=False\n",
    "        option.add_experimental_option(\"detach\",True)\n",
    "        browser=webdriver.Chrome(service=s)\n",
    "        browser.maximize_window()\n",
    "        browser.get(url)\n",
    "        browser.set_page_load_timeout(10)\n",
    "#         while True:\n",
    "#             try:\n",
    "#                 if pincre*page>maxre:\n",
    "#                     break\n",
    "#                 if count>pincre:\n",
    "#                     count+=1\n",
    "#                     page+=1\n",
    "                "
   ]
  },
  {
   "cell_type": "code",
   "execution_count": null,
   "id": "48c6a377",
   "metadata": {},
   "outputs": [],
   "source": []
  }
 ],
 "metadata": {
  "kernelspec": {
   "display_name": "indickernel",
   "language": "python",
   "name": "indickernel"
  },
  "language_info": {
   "codemirror_mode": {
    "name": "ipython",
    "version": 3
   },
   "file_extension": ".py",
   "mimetype": "text/x-python",
   "name": "python",
   "nbconvert_exporter": "python",
   "pygments_lexer": "ipython3",
   "version": "3.8.8"
  }
 },
 "nbformat": 4,
 "nbformat_minor": 5
}
