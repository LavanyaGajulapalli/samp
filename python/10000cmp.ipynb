{
 "cells": [
  {
   "cell_type": "code",
   "execution_count": 1,
   "id": "67327d3f",
   "metadata": {},
   "outputs": [],
   "source": [
    "from selenium import webdriver\n",
    "from selenium.webdriver.common.keys import Keys\n",
    "from selenium.webdriver.support import expected_conditions as EC\n",
    "from selenium.webdriver.common.by import By\n",
    "from selenium.webdriver.support.wait import WebDriverWait\n",
    "from selenium.webdriver.chrome.service import Service\n",
    "import openpyxl"
   ]
  },
  {
   "cell_type": "code",
   "execution_count": 2,
   "id": "3718d2dc",
   "metadata": {},
   "outputs": [],
   "source": [
    "s=Service(\"D:\\chromedrive\\chromedriver.exe\")\n",
    "driver=webdriver.Chrome(service=s)"
   ]
  },
  {
   "cell_type": "code",
   "execution_count": 3,
   "id": "6ab86b8f",
   "metadata": {},
   "outputs": [],
   "source": [
    "driver.get(\"https://www.99corporates.com/Company-List/TOP10000/10000\")"
   ]
  },
  {
   "cell_type": "code",
   "execution_count": 6,
   "id": "b3627788",
   "metadata": {},
   "outputs": [],
   "source": [
    "rank=driver.find_elements(By.XPATH,value='//*[@id=\"tblCompList\"]/tbody/tr/td[1]')"
   ]
  },
  {
   "cell_type": "code",
   "execution_count": 7,
   "id": "ce1d13ee",
   "metadata": {},
   "outputs": [
    {
     "name": "stdout",
     "output_type": "stream",
     "text": [
      "1\n",
      "2\n",
      "3\n",
      "4\n",
      "5\n",
      "6\n",
      "7\n",
      "8\n",
      "9\n",
      "10\n",
      "11\n",
      "12\n",
      "13\n",
      "14\n",
      "15\n",
      "16\n",
      "17\n",
      "18\n",
      "19\n",
      "20\n"
     ]
    }
   ],
   "source": [
    "for i in rank:\n",
    "    print(i.text)"
   ]
  },
  {
   "cell_type": "code",
   "execution_count": null,
   "id": "c39434e9",
   "metadata": {},
   "outputs": [],
   "source": []
  }
 ],
 "metadata": {
  "kernelspec": {
   "display_name": "indickernel",
   "language": "python",
   "name": "indickernel"
  },
  "language_info": {
   "codemirror_mode": {
    "name": "ipython",
    "version": 3
   },
   "file_extension": ".py",
   "mimetype": "text/x-python",
   "name": "python",
   "nbconvert_exporter": "python",
   "pygments_lexer": "ipython3",
   "version": "3.8.8"
  }
 },
 "nbformat": 4,
 "nbformat_minor": 5
}
